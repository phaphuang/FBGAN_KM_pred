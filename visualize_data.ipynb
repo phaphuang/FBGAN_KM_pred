{
 "cells": [
  {
   "cell_type": "code",
   "execution_count": 1,
   "metadata": {},
   "outputs": [],
   "source": [
    "import pandas as pd\n",
    "import matplotlib.pyplot as plt\n",
    "import numpy as np\n",
    "import seaborn as sns"
   ]
  },
  {
   "cell_type": "code",
   "execution_count": 2,
   "metadata": {},
   "outputs": [
    {
     "data": {
      "text/html": [
       "<div>\n",
       "<style scoped>\n",
       "    .dataframe tbody tr th:only-of-type {\n",
       "        vertical-align: middle;\n",
       "    }\n",
       "\n",
       "    .dataframe tbody tr th {\n",
       "        vertical-align: top;\n",
       "    }\n",
       "\n",
       "    .dataframe thead th {\n",
       "        text-align: right;\n",
       "    }\n",
       "</style>\n",
       "<table border=\"1\" class=\"dataframe\">\n",
       "  <thead>\n",
       "    <tr style=\"text-align: right;\">\n",
       "      <th></th>\n",
       "      <th>Unnamed: 0</th>\n",
       "      <th>EC</th>\n",
       "      <th>SUBSTRATE</th>\n",
       "      <th>ORGANISM</th>\n",
       "      <th>UNIPROT</th>\n",
       "      <th>log10_KM</th>\n",
       "      <th>KEGG ID</th>\n",
       "      <th>KEGG reaction ID</th>\n",
       "      <th>Sequence</th>\n",
       "      <th>MW</th>\n",
       "      <th>LogP</th>\n",
       "      <th>ECFP</th>\n",
       "      <th>RDKit FP</th>\n",
       "      <th>MACCS FP</th>\n",
       "    </tr>\n",
       "  </thead>\n",
       "  <tbody>\n",
       "    <tr>\n",
       "      <th>0</th>\n",
       "      <td>26</td>\n",
       "      <td>1.1.1.1</td>\n",
       "      <td>1-Octanol</td>\n",
       "      <td>Geobacillus thermodenitrificans</td>\n",
       "      <td>['A4IP64' 'A4ISB9']</td>\n",
       "      <td>0.588832</td>\n",
       "      <td>C00756</td>\n",
       "      <td>['R02878_f']</td>\n",
       "      <td>MQNFTFRNPTKLIFGRGQIEQLKEEVPKYGKKVLLVYGGGSIKRNG...</td>\n",
       "      <td>130.135765</td>\n",
       "      <td>2.3392</td>\n",
       "      <td>0000000000000000000000000000000001000000000000...</td>\n",
       "      <td>0000000000000000000000000000000000000000000000...</td>\n",
       "      <td>0000000000000000000000000000000000000000000000...</td>\n",
       "    </tr>\n",
       "    <tr>\n",
       "      <th>1</th>\n",
       "      <td>27</td>\n",
       "      <td>1.1.1.1</td>\n",
       "      <td>1-Octanol</td>\n",
       "      <td>Homo sapiens</td>\n",
       "      <td>['P00326' 'P08319']</td>\n",
       "      <td>-0.408935</td>\n",
       "      <td>C00756</td>\n",
       "      <td>['R02878_f']</td>\n",
       "      <td>MGTKGKVIKCKAAIAWEAGKPLCIEEVEVAPPKAHEVRIQIIATSL...</td>\n",
       "      <td>130.135765</td>\n",
       "      <td>2.3392</td>\n",
       "      <td>0000000000000000000000000000000001000000000000...</td>\n",
       "      <td>0000000000000000000000000000000000000000000000...</td>\n",
       "      <td>0000000000000000000000000000000000000000000000...</td>\n",
       "    </tr>\n",
       "    <tr>\n",
       "      <th>2</th>\n",
       "      <td>114</td>\n",
       "      <td>1.1.1.1</td>\n",
       "      <td>NAD+</td>\n",
       "      <td>Acetobacter pasteurianus</td>\n",
       "      <td>[]</td>\n",
       "      <td>-0.659379</td>\n",
       "      <td>C00003</td>\n",
       "      <td>['R00623_f', 'R00624_f', 'R00754_f', 'R02124_f...</td>\n",
       "      <td>MFAMRLHQPKTPLQWEEVPDPVPGPGEIRVKVLACGVCRTDLHVVD...</td>\n",
       "      <td>664.116398</td>\n",
       "      <td>-3.0159</td>\n",
       "      <td>0000000001000000000000100000000000000000000000...</td>\n",
       "      <td>1110111010111011101011111011111011011100100111...</td>\n",
       "      <td>0000000000000000000000000000010000000010000000...</td>\n",
       "    </tr>\n",
       "    <tr>\n",
       "      <th>3</th>\n",
       "      <td>115</td>\n",
       "      <td>1.1.1.1</td>\n",
       "      <td>NAD+</td>\n",
       "      <td>Aeropyrum pernix</td>\n",
       "      <td>['Q9Y9P9']</td>\n",
       "      <td>-3.000000</td>\n",
       "      <td>C00003</td>\n",
       "      <td>['R00623_f', 'R00624_f', 'R00754_f', 'R02124_f...</td>\n",
       "      <td>MKAARLHEYNKPLRIEDVDYPRLEGRFDVIVRIAGAGVCHTDLHLV...</td>\n",
       "      <td>664.116398</td>\n",
       "      <td>-3.0159</td>\n",
       "      <td>0000000001000000000000100000000000000000000000...</td>\n",
       "      <td>1110111010111011101011111011111011011100100111...</td>\n",
       "      <td>0000000000000000000000000000010000000010000000...</td>\n",
       "    </tr>\n",
       "    <tr>\n",
       "      <th>4</th>\n",
       "      <td>117</td>\n",
       "      <td>1.1.1.1</td>\n",
       "      <td>NAD+</td>\n",
       "      <td>Euglena gracilis</td>\n",
       "      <td>['B8QU18']</td>\n",
       "      <td>-0.704468</td>\n",
       "      <td>C00003</td>\n",
       "      <td>['R00623_f', 'R00624_f', 'R00754_f', 'R02124_f...</td>\n",
       "      <td>MKAAVVEQFGKPLAIREVPVPEPGYGQVLIKIIASGVCHTDLHVRD...</td>\n",
       "      <td>664.116398</td>\n",
       "      <td>-3.0159</td>\n",
       "      <td>0000000001000000000000100000000000000000000000...</td>\n",
       "      <td>1110111010111011101011111011111011011100100111...</td>\n",
       "      <td>0000000000000000000000000000010000000010000000...</td>\n",
       "    </tr>\n",
       "  </tbody>\n",
       "</table>\n",
       "</div>"
      ],
      "text/plain": [
       "   Unnamed: 0       EC  SUBSTRATE                         ORGANISM  \\\n",
       "0          26  1.1.1.1  1-Octanol  Geobacillus thermodenitrificans   \n",
       "1          27  1.1.1.1  1-Octanol                     Homo sapiens   \n",
       "2         114  1.1.1.1       NAD+         Acetobacter pasteurianus   \n",
       "3         115  1.1.1.1       NAD+                 Aeropyrum pernix   \n",
       "4         117  1.1.1.1       NAD+                 Euglena gracilis   \n",
       "\n",
       "               UNIPROT  log10_KM KEGG ID  \\\n",
       "0  ['A4IP64' 'A4ISB9']  0.588832  C00756   \n",
       "1  ['P00326' 'P08319'] -0.408935  C00756   \n",
       "2                   [] -0.659379  C00003   \n",
       "3           ['Q9Y9P9'] -3.000000  C00003   \n",
       "4           ['B8QU18'] -0.704468  C00003   \n",
       "\n",
       "                                    KEGG reaction ID  \\\n",
       "0                                       ['R02878_f']   \n",
       "1                                       ['R02878_f']   \n",
       "2  ['R00623_f', 'R00624_f', 'R00754_f', 'R02124_f...   \n",
       "3  ['R00623_f', 'R00624_f', 'R00754_f', 'R02124_f...   \n",
       "4  ['R00623_f', 'R00624_f', 'R00754_f', 'R02124_f...   \n",
       "\n",
       "                                            Sequence          MW    LogP  \\\n",
       "0  MQNFTFRNPTKLIFGRGQIEQLKEEVPKYGKKVLLVYGGGSIKRNG...  130.135765  2.3392   \n",
       "1  MGTKGKVIKCKAAIAWEAGKPLCIEEVEVAPPKAHEVRIQIIATSL...  130.135765  2.3392   \n",
       "2  MFAMRLHQPKTPLQWEEVPDPVPGPGEIRVKVLACGVCRTDLHVVD...  664.116398 -3.0159   \n",
       "3  MKAARLHEYNKPLRIEDVDYPRLEGRFDVIVRIAGAGVCHTDLHLV...  664.116398 -3.0159   \n",
       "4  MKAAVVEQFGKPLAIREVPVPEPGYGQVLIKIIASGVCHTDLHVRD...  664.116398 -3.0159   \n",
       "\n",
       "                                                ECFP  \\\n",
       "0  0000000000000000000000000000000001000000000000...   \n",
       "1  0000000000000000000000000000000001000000000000...   \n",
       "2  0000000001000000000000100000000000000000000000...   \n",
       "3  0000000001000000000000100000000000000000000000...   \n",
       "4  0000000001000000000000100000000000000000000000...   \n",
       "\n",
       "                                            RDKit FP  \\\n",
       "0  0000000000000000000000000000000000000000000000...   \n",
       "1  0000000000000000000000000000000000000000000000...   \n",
       "2  1110111010111011101011111011111011011100100111...   \n",
       "3  1110111010111011101011111011111011011100100111...   \n",
       "4  1110111010111011101011111011111011011100100111...   \n",
       "\n",
       "                                            MACCS FP  \n",
       "0  0000000000000000000000000000000000000000000000...  \n",
       "1  0000000000000000000000000000000000000000000000...  \n",
       "2  0000000000000000000000000000010000000010000000...  \n",
       "3  0000000000000000000000000000010000000010000000...  \n",
       "4  0000000000000000000000000000010000000010000000...  "
      ]
     },
     "execution_count": 2,
     "metadata": {},
     "output_type": "execute_result"
    }
   ],
   "source": [
    "df = pd.read_csv(\"data/new_brenda_substrate_df_data.csv\")\n",
    "df.head()"
   ]
  },
  {
   "cell_type": "code",
   "execution_count": 3,
   "metadata": {},
   "outputs": [
    {
     "data": {
      "text/plain": [
       "12524"
      ]
     },
     "execution_count": 3,
     "metadata": {},
     "output_type": "execute_result"
    }
   ],
   "source": [
    "len(df)"
   ]
  },
  {
   "cell_type": "code",
   "execution_count": 4,
   "metadata": {},
   "outputs": [
    {
     "data": {
      "text/plain": [
       "<matplotlib.axes._subplots.AxesSubplot at 0x224a4419dd8>"
      ]
     },
     "execution_count": 4,
     "metadata": {},
     "output_type": "execute_result"
    },
    {
     "data": {
      "image/png": "[encoded data removed]",
      "text/plain": [
       "<Figure size 432x288 with 1 Axes>"
      ]
     },
     "metadata": {
      "needs_background": "light"
     },
     "output_type": "display_data"
    }
   ],
   "source": [
    "sns.histplot(data=df, x=\"log10_KM\", bins=20)"
   ]
  },
  {
   "cell_type": "code",
   "execution_count": 5,
   "metadata": {},
   "outputs": [
    {
     "data": {
      "text/plain": [
       "(-14.0, 5.672097858)"
      ]
     },
     "execution_count": 5,
     "metadata": {},
     "output_type": "execute_result"
    }
   ],
   "source": [
    "min(df[\"log10_KM\"]), max(df[\"log10_KM\"])"
   ]
  },
  {
   "cell_type": "code",
   "execution_count": 6,
   "metadata": {},
   "outputs": [
    {
     "data": {
      "text/plain": [
       "911"
      ]
     },
     "execution_count": 6,
     "metadata": {},
     "output_type": "execute_result"
    }
   ],
   "source": [
    "len(df[df[\"log10_KM\"] > 1])"
   ]
  },
  {
   "cell_type": "code",
   "execution_count": 7,
   "metadata": {},
   "outputs": [
    {
     "data": {
      "text/plain": [
       "3007"
      ]
     },
     "execution_count": 7,
     "metadata": {},
     "output_type": "execute_result"
    }
   ],
   "source": [
    "len(df[df[\"log10_KM\"] > 0])"
   ]
  },
  {
   "cell_type": "code",
   "execution_count": 8,
   "metadata": {},
   "outputs": [
    {
     "data": {
      "text/html": [
       "<div>\n",
       "<style scoped>\n",
       "    .dataframe tbody tr th:only-of-type {\n",
       "        vertical-align: middle;\n",
       "    }\n",
       "\n",
       "    .dataframe tbody tr th {\n",
       "        vertical-align: top;\n",
       "    }\n",
       "\n",
       "    .dataframe thead th {\n",
       "        text-align: right;\n",
       "    }\n",
       "</style>\n",
       "<table border=\"1\" class=\"dataframe\">\n",
       "  <thead>\n",
       "    <tr style=\"text-align: right;\">\n",
       "      <th></th>\n",
       "      <th>Unnamed: 0</th>\n",
       "      <th>log10_KM</th>\n",
       "      <th>MW</th>\n",
       "      <th>LogP</th>\n",
       "      <th>MACCS FP</th>\n",
       "    </tr>\n",
       "  </thead>\n",
       "  <tbody>\n",
       "    <tr>\n",
       "      <th>count</th>\n",
       "      <td>12524.000000</td>\n",
       "      <td>12524.000000</td>\n",
       "      <td>12524.000000</td>\n",
       "      <td>12524.000000</td>\n",
       "      <td>1.252400e+04</td>\n",
       "    </tr>\n",
       "    <tr>\n",
       "      <th>mean</th>\n",
       "      <td>22246.207362</td>\n",
       "      <td>-0.780325</td>\n",
       "      <td>336.108930</td>\n",
       "      <td>-1.109818</td>\n",
       "      <td>1.916421e+160</td>\n",
       "    </tr>\n",
       "    <tr>\n",
       "      <th>std</th>\n",
       "      <td>13964.718205</td>\n",
       "      <td>1.201703</td>\n",
       "      <td>242.228000</td>\n",
       "      <td>2.247495</td>\n",
       "      <td>inf</td>\n",
       "    </tr>\n",
       "    <tr>\n",
       "      <th>min</th>\n",
       "      <td>26.000000</td>\n",
       "      <td>-14.000000</td>\n",
       "      <td>2.015650</td>\n",
       "      <td>-14.100400</td>\n",
       "      <td>0.000000e+00</td>\n",
       "    </tr>\n",
       "    <tr>\n",
       "      <th>25%</th>\n",
       "      <td>10707.750000</td>\n",
       "      <td>-1.551294</td>\n",
       "      <td>146.021523</td>\n",
       "      <td>-2.580700</td>\n",
       "      <td>1.000000e+112</td>\n",
       "    </tr>\n",
       "    <tr>\n",
       "      <th>50%</th>\n",
       "      <td>20409.500000</td>\n",
       "      <td>-0.823909</td>\n",
       "      <td>258.577902</td>\n",
       "      <td>-1.315400</td>\n",
       "      <td>1.000000e+137</td>\n",
       "    </tr>\n",
       "    <tr>\n",
       "      <th>75%</th>\n",
       "      <td>37493.500000</td>\n",
       "      <td>-0.027537</td>\n",
       "      <td>506.995745</td>\n",
       "      <td>-0.188800</td>\n",
       "      <td>1.000000e+137</td>\n",
       "    </tr>\n",
       "    <tr>\n",
       "      <th>max</th>\n",
       "      <td>46889.000000</td>\n",
       "      <td>5.672098</td>\n",
       "      <td>1875.060600</td>\n",
       "      <td>18.443900</td>\n",
       "      <td>1.000000e+163</td>\n",
       "    </tr>\n",
       "  </tbody>\n",
       "</table>\n",
       "</div>"
      ],
      "text/plain": [
       "         Unnamed: 0      log10_KM            MW          LogP       MACCS FP\n",
       "count  12524.000000  12524.000000  12524.000000  12524.000000   1.252400e+04\n",
       "mean   22246.207362     -0.780325    336.108930     -1.109818  1.916421e+160\n",
       "std    13964.718205      1.201703    242.228000      2.247495            inf\n",
       "min       26.000000    -14.000000      2.015650    -14.100400   0.000000e+00\n",
       "25%    10707.750000     -1.551294    146.021523     -2.580700  1.000000e+112\n",
       "50%    20409.500000     -0.823909    258.577902     -1.315400  1.000000e+137\n",
       "75%    37493.500000     -0.027537    506.995745     -0.188800  1.000000e+137\n",
       "max    46889.000000      5.672098   1875.060600     18.443900  1.000000e+163"
      ]
     },
     "execution_count": 8,
     "metadata": {},
     "output_type": "execute_result"
    }
   ],
   "source": [
    "df.describe()"
   ]
  },
  {
   "cell_type": "code",
   "execution_count": 9,
   "metadata": {},
   "outputs": [
    {
     "data": {
      "text/plain": [
       "4.1.1.39      177\n",
       "1.1.1.37      108\n",
       "2.4.2.1        76\n",
       "1.1.1.1        67\n",
       "3.5.2.6        63\n",
       "             ... \n",
       "2.5.1.117       1\n",
       "2.1.2.2         1\n",
       "1.14.19.73      1\n",
       "2.1.1.354       1\n",
       "5.3.1.22        1\n",
       "Name: EC, Length: 2470, dtype: int64"
      ]
     },
     "execution_count": 9,
     "metadata": {},
     "output_type": "execute_result"
    }
   ],
   "source": [
    "df[\"EC\"].value_counts()"
   ]
  },
  {
   "cell_type": "code",
   "execution_count": 10,
   "metadata": {},
   "outputs": [
    {
     "data": {
      "text/plain": [
       "2470"
      ]
     },
     "execution_count": 10,
     "metadata": {},
     "output_type": "execute_result"
    }
   ],
   "source": [
    "df[\"EC\"].nunique()"
   ]
  },
  {
   "cell_type": "code",
   "execution_count": 11,
   "metadata": {},
   "outputs": [
    {
     "data": {
      "text/plain": [
       "ATP                                                716\n",
       "NAD+                                               503\n",
       "NADPH                                              364\n",
       "NADH                                               357\n",
       "NADP+                                              224\n",
       "                                                  ... \n",
       "4-hydroxy-3-methylbenzaldehyde                       1\n",
       "all-trans-4,4'-diapo-zeta-carotene                   1\n",
       "2,3-Dihydroxybenzoic acid                            1\n",
       "L-Selenohomocysteine                                 1\n",
       "3-deoxy-D-arabino-heptulosonic acid 7-phosphate      1\n",
       "Name: SUBSTRATE, Length: 2029, dtype: int64"
      ]
     },
     "execution_count": 11,
     "metadata": {},
     "output_type": "execute_result"
    }
   ],
   "source": [
    "df[\"SUBSTRATE\"].value_counts()"
   ]
  },
  {
   "cell_type": "code",
   "execution_count": 13,
   "metadata": {},
   "outputs": [
    {
     "data": {
      "text/plain": [
       "2029"
      ]
     },
     "execution_count": 13,
     "metadata": {},
     "output_type": "execute_result"
    }
   ],
   "source": [
    "df[\"SUBSTRATE\"].nunique()"
   ]
  },
  {
   "cell_type": "code",
   "execution_count": 12,
   "metadata": {},
   "outputs": [
    {
     "data": {
      "text/plain": [
       "Escherichia coli                 1321\n",
       "Homo sapiens                      658\n",
       "Arabidopsis thaliana              332\n",
       "Mycobacterium tuberculosis        311\n",
       "Bacillus subtilis                 286\n",
       "                                 ... \n",
       "Thapsia garganica                   1\n",
       "Prochlorococcus marinus             1\n",
       "Ureibacillus thermosphaericus       1\n",
       "Methylorubrum rhodesianum           1\n",
       "Streptomyces acrimycini             1\n",
       "Name: ORGANISM, Length: 1653, dtype: int64"
      ]
     },
     "execution_count": 12,
     "metadata": {},
     "output_type": "execute_result"
    }
   ],
   "source": [
    "df[\"ORGANISM\"].value_counts()"
   ]
  },
  {
   "cell_type": "code",
   "execution_count": 44,
   "metadata": {},
   "outputs": [
    {
     "data": {
      "text/plain": [
       "1653"
      ]
     },
     "execution_count": 44,
     "metadata": {},
     "output_type": "execute_result"
    }
   ],
   "source": [
    "df[\"ORGANISM\"].nunique()"
   ]
  },
  {
   "cell_type": "code",
   "execution_count": null,
   "metadata": {},
   "outputs": [],
   "source": []
  }
 ],
 "metadata": {
  "interpreter": {
   "hash": "a0e8cd18173f442396450e7fcd4ac8771ac784f0fd0273fa253fa66de9e09424"
  },
  "kernelspec": {
   "display_name": "Python 3.6.7 64-bit ('python36': conda)",
   "language": "python",
   "name": "python3"
  },
  "language_info": {
   "codemirror_mode": {
    "name": "ipython",
    "version": 3
   },
   "file_extension": ".py",
   "mimetype": "text/x-python",
   "name": "python",
   "nbconvert_exporter": "python",
   "pygments_lexer": "ipython3",
   "version": "3.6.7"
  },
  "orig_nbformat": 4
 },
 "nbformat": 4,
 "nbformat_minor": 2
}
