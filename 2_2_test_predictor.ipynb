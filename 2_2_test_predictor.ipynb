{
 "cells": [
  {
   "cell_type": "code",
   "execution_count": 3,
   "metadata": {},
   "outputs": [],
   "source": [
    "import argparse\n",
    "from sklearn.preprocessing import OneHotEncoder\n",
    "from utils.torch_utils import *\n",
    "from utils.utils import *\n",
    "import matplotlib.pyplot as plt\n",
    "import utils.language_helpers\n",
    "plt.switch_backend('agg')\n",
    "import numpy as np\n",
    "from multi_models import Discriminator_logkm\n",
    "\n",
    "import pandas as pd"
   ]
  },
  {
   "cell_type": "code",
   "execution_count": 79,
   "metadata": {},
   "outputs": [
    {
     "data": {
      "text/html": [
       "<div>\n",
       "<style scoped>\n",
       "    .dataframe tbody tr th:only-of-type {\n",
       "        vertical-align: middle;\n",
       "    }\n",
       "\n",
       "    .dataframe tbody tr th {\n",
       "        vertical-align: top;\n",
       "    }\n",
       "\n",
       "    .dataframe thead th {\n",
       "        text-align: right;\n",
       "    }\n",
       "</style>\n",
       "<table border=\"1\" class=\"dataframe\">\n",
       "  <thead>\n",
       "    <tr style=\"text-align: right;\">\n",
       "      <th></th>\n",
       "      <th>Unnamed: 0</th>\n",
       "      <th>EC</th>\n",
       "      <th>SUBSTRATE</th>\n",
       "      <th>ORGANISM</th>\n",
       "      <th>UNIPROT</th>\n",
       "      <th>log10_KM</th>\n",
       "      <th>KEGG ID</th>\n",
       "      <th>KEGG reaction ID</th>\n",
       "      <th>Sequence</th>\n",
       "      <th>MW</th>\n",
       "      <th>LogP</th>\n",
       "      <th>ECFP</th>\n",
       "      <th>RDKit FP</th>\n",
       "      <th>MACCS FP</th>\n",
       "    </tr>\n",
       "  </thead>\n",
       "  <tbody>\n",
       "    <tr>\n",
       "      <th>0</th>\n",
       "      <td>26</td>\n",
       "      <td>1.1.1.1</td>\n",
       "      <td>1-Octanol</td>\n",
       "      <td>Geobacillus thermodenitrificans</td>\n",
       "      <td>['A4IP64' 'A4ISB9']</td>\n",
       "      <td>0.588832</td>\n",
       "      <td>C00756</td>\n",
       "      <td>['R02878_f']</td>\n",
       "      <td>MQNFTFRNPTKLIFGRGQIEQLKEEVPKYGKKVLLVYGGGSIKRNG...</td>\n",
       "      <td>130.135765</td>\n",
       "      <td>2.3392</td>\n",
       "      <td>0000000000000000000000000000000001000000000000...</td>\n",
       "      <td>0000000000000000000000000000000000000000000000...</td>\n",
       "      <td>0000000000000000000000000000000000000000000000...</td>\n",
       "    </tr>\n",
       "    <tr>\n",
       "      <th>1</th>\n",
       "      <td>27</td>\n",
       "      <td>1.1.1.1</td>\n",
       "      <td>1-Octanol</td>\n",
       "      <td>Homo sapiens</td>\n",
       "      <td>['P00326' 'P08319']</td>\n",
       "      <td>-0.408935</td>\n",
       "      <td>C00756</td>\n",
       "      <td>['R02878_f']</td>\n",
       "      <td>MGTKGKVIKCKAAIAWEAGKPLCIEEVEVAPPKAHEVRIQIIATSL...</td>\n",
       "      <td>130.135765</td>\n",
       "      <td>2.3392</td>\n",
       "      <td>0000000000000000000000000000000001000000000000...</td>\n",
       "      <td>0000000000000000000000000000000000000000000000...</td>\n",
       "      <td>0000000000000000000000000000000000000000000000...</td>\n",
       "    </tr>\n",
       "    <tr>\n",
       "      <th>2</th>\n",
       "      <td>114</td>\n",
       "      <td>1.1.1.1</td>\n",
       "      <td>NAD+</td>\n",
       "      <td>Acetobacter pasteurianus</td>\n",
       "      <td>[]</td>\n",
       "      <td>-0.659379</td>\n",
       "      <td>C00003</td>\n",
       "      <td>['R00623_f', 'R00624_f', 'R00754_f', 'R02124_f...</td>\n",
       "      <td>MFAMRLHQPKTPLQWEEVPDPVPGPGEIRVKVLACGVCRTDLHVVD...</td>\n",
       "      <td>664.116398</td>\n",
       "      <td>-3.0159</td>\n",
       "      <td>0000000001000000000000100000000000000000000000...</td>\n",
       "      <td>1110111010111011101011111011111011011100100111...</td>\n",
       "      <td>0000000000000000000000000000010000000010000000...</td>\n",
       "    </tr>\n",
       "    <tr>\n",
       "      <th>3</th>\n",
       "      <td>115</td>\n",
       "      <td>1.1.1.1</td>\n",
       "      <td>NAD+</td>\n",
       "      <td>Aeropyrum pernix</td>\n",
       "      <td>['Q9Y9P9']</td>\n",
       "      <td>-3.000000</td>\n",
       "      <td>C00003</td>\n",
       "      <td>['R00623_f', 'R00624_f', 'R00754_f', 'R02124_f...</td>\n",
       "      <td>MKAARLHEYNKPLRIEDVDYPRLEGRFDVIVRIAGAGVCHTDLHLV...</td>\n",
       "      <td>664.116398</td>\n",
       "      <td>-3.0159</td>\n",
       "      <td>0000000001000000000000100000000000000000000000...</td>\n",
       "      <td>1110111010111011101011111011111011011100100111...</td>\n",
       "      <td>0000000000000000000000000000010000000010000000...</td>\n",
       "    </tr>\n",
       "    <tr>\n",
       "      <th>4</th>\n",
       "      <td>117</td>\n",
       "      <td>1.1.1.1</td>\n",
       "      <td>NAD+</td>\n",
       "      <td>Euglena gracilis</td>\n",
       "      <td>['B8QU18']</td>\n",
       "      <td>-0.704468</td>\n",
       "      <td>C00003</td>\n",
       "      <td>['R00623_f', 'R00624_f', 'R00754_f', 'R02124_f...</td>\n",
       "      <td>MKAAVVEQFGKPLAIREVPVPEPGYGQVLIKIIASGVCHTDLHVRD...</td>\n",
       "      <td>664.116398</td>\n",
       "      <td>-3.0159</td>\n",
       "      <td>0000000001000000000000100000000000000000000000...</td>\n",
       "      <td>1110111010111011101011111011111011011100100111...</td>\n",
       "      <td>0000000000000000000000000000010000000010000000...</td>\n",
       "    </tr>\n",
       "  </tbody>\n",
       "</table>\n",
       "</div>"
      ],
      "text/plain": [
       "   Unnamed: 0       EC  SUBSTRATE                         ORGANISM  \\\n",
       "0          26  1.1.1.1  1-Octanol  Geobacillus thermodenitrificans   \n",
       "1          27  1.1.1.1  1-Octanol                     Homo sapiens   \n",
       "2         114  1.1.1.1       NAD+         Acetobacter pasteurianus   \n",
       "3         115  1.1.1.1       NAD+                 Aeropyrum pernix   \n",
       "4         117  1.1.1.1       NAD+                 Euglena gracilis   \n",
       "\n",
       "               UNIPROT  log10_KM KEGG ID  \\\n",
       "0  ['A4IP64' 'A4ISB9']  0.588832  C00756   \n",
       "1  ['P00326' 'P08319'] -0.408935  C00756   \n",
       "2                   [] -0.659379  C00003   \n",
       "3           ['Q9Y9P9'] -3.000000  C00003   \n",
       "4           ['B8QU18'] -0.704468  C00003   \n",
       "\n",
       "                                    KEGG reaction ID  \\\n",
       "0                                       ['R02878_f']   \n",
       "1                                       ['R02878_f']   \n",
       "2  ['R00623_f', 'R00624_f', 'R00754_f', 'R02124_f...   \n",
       "3  ['R00623_f', 'R00624_f', 'R00754_f', 'R02124_f...   \n",
       "4  ['R00623_f', 'R00624_f', 'R00754_f', 'R02124_f...   \n",
       "\n",
       "                                            Sequence          MW    LogP  \\\n",
       "0  MQNFTFRNPTKLIFGRGQIEQLKEEVPKYGKKVLLVYGGGSIKRNG...  130.135765  2.3392   \n",
       "1  MGTKGKVIKCKAAIAWEAGKPLCIEEVEVAPPKAHEVRIQIIATSL...  130.135765  2.3392   \n",
       "2  MFAMRLHQPKTPLQWEEVPDPVPGPGEIRVKVLACGVCRTDLHVVD...  664.116398 -3.0159   \n",
       "3  MKAARLHEYNKPLRIEDVDYPRLEGRFDVIVRIAGAGVCHTDLHLV...  664.116398 -3.0159   \n",
       "4  MKAAVVEQFGKPLAIREVPVPEPGYGQVLIKIIASGVCHTDLHVRD...  664.116398 -3.0159   \n",
       "\n",
       "                                                ECFP  \\\n",
       "0  0000000000000000000000000000000001000000000000...   \n",
       "1  0000000000000000000000000000000001000000000000...   \n",
       "2  0000000001000000000000100000000000000000000000...   \n",
       "3  0000000001000000000000100000000000000000000000...   \n",
       "4  0000000001000000000000100000000000000000000000...   \n",
       "\n",
       "                                            RDKit FP  \\\n",
       "0  0000000000000000000000000000000000000000000000...   \n",
       "1  0000000000000000000000000000000000000000000000...   \n",
       "2  1110111010111011101011111011111011011100100111...   \n",
       "3  1110111010111011101011111011111011011100100111...   \n",
       "4  1110111010111011101011111011111011011100100111...   \n",
       "\n",
       "                                            MACCS FP  \n",
       "0  0000000000000000000000000000000000000000000000...  \n",
       "1  0000000000000000000000000000000000000000000000...  \n",
       "2  0000000000000000000000000000010000000010000000...  \n",
       "3  0000000000000000000000000000010000000010000000...  \n",
       "4  0000000000000000000000000000010000000010000000...  "
      ]
     },
     "execution_count": 79,
     "metadata": {},
     "output_type": "execute_result"
    }
   ],
   "source": [
    "batch_size=16\n",
    "lr=0.001\n",
    "num_epochs=2000\n",
    "seq_len=512\n",
    "data_dir= \"data/new_brenda_substrate_df_data.csv\"\n",
    "hidden=512\n",
    "sub_len=1024\n",
    "\n",
    "\n",
    "######### Load data #######\n",
    "# max_examples = 1e6\n",
    "# data, charmap, inv_charmap, substate_ecfp, logkm_list = utils.language_helpers.load_dataset_ecfp(\n",
    "#     max_length=seq_len,\n",
    "#     max_n_examples=max_examples,\n",
    "#     data_dir=data_dir\n",
    "# )\n",
    "\n",
    "data = pd.read_csv(data_dir)\n",
    "data.head()"
   ]
  },
  {
   "cell_type": "code",
   "execution_count": 80,
   "metadata": {},
   "outputs": [],
   "source": [
    "from utils.constants import AMINO_ACID_TO_ID\n",
    "\n",
    "charmap = AMINO_ACID_TO_ID\n",
    "inv_charmap = ['0','A','C','D','E','F','G','H','I','K','L','M','N','P','Q','R','S','T','V','W','Y']"
   ]
  },
  {
   "cell_type": "code",
   "execution_count": 81,
   "metadata": {},
   "outputs": [
    {
     "name": "stdout",
     "output_type": "stream",
     "text": [
      "\n"
     ]
    }
   ],
   "source": [
    "model = Discriminator_logkm(len(charmap), seq_len, batch_size, hidden, sub_len)\n",
    "model.cuda()\n",
    "model.load_state_dict(torch.load(\"checkpoint/test_pred/P_weights_780000.pth\"))\n",
    "print(\"\")"
   ]
  },
  {
   "cell_type": "code",
   "execution_count": 82,
   "metadata": {},
   "outputs": [
    {
     "data": {
      "text/plain": [
       "OneHotEncoder(categories='auto', drop=None, dtype=<class 'numpy.float64'>,\n",
       "              handle_unknown='error', sparse=True)"
      ]
     },
     "execution_count": 82,
     "metadata": {},
     "output_type": "execute_result"
    }
   ],
   "source": [
    "table = np.arange(len(charmap)).reshape(-1,1)\n",
    "one_hot = OneHotEncoder()\n",
    "one_hot.fit(table)"
   ]
  },
  {
   "cell_type": "code",
   "execution_count": 83,
   "metadata": {},
   "outputs": [],
   "source": [
    "n_train_batches = int(len(data)/batch_size)"
   ]
  },
  {
   "cell_type": "code",
   "execution_count": 84,
   "metadata": {},
   "outputs": [],
   "source": [
    "from utils.constants import NON_STANDARD_AMINO_ACIDS"
   ]
  },
  {
   "cell_type": "code",
   "execution_count": 85,
   "metadata": {},
   "outputs": [],
   "source": [
    "def tokenize_string(sample):\n",
    "    return tuple(sample.lower().split(' '))"
   ]
  },
  {
   "cell_type": "code",
   "execution_count": 86,
   "metadata": {},
   "outputs": [
    {
     "name": "stdout",
     "output_type": "stream",
     "text": [
      "loading dataset...\n",
      "loaded 12524 lines in dataset\n"
     ]
    }
   ],
   "source": [
    "def load_dataset_ecfp(max_length, max_n_examples, tokenize=False, max_vocab_size=2048, data_dir=''):\n",
    "    '''Adapted from https://github.com/igul222/improved_wgan_training/blob/master/language_helpers.py'''\n",
    "    print (\"loading dataset...\")\n",
    "\n",
    "    temp_df = pd.read_csv(data_dir)\n",
    "    temp_df = temp_df.dropna(subset=[\"ECFP\"])\n",
    "    \n",
    "    if len(temp_df) > max_n_examples:\n",
    "        temp_df = temp_df[:max_n_examples]\n",
    "    \n",
    "    temp_seq = list(temp_df[\"Sequence\"])\n",
    "    temp_ectp = list(temp_df[\"ECFP\"])\n",
    "    temp_logkm = list(temp_df[\"log10_KM\"])\n",
    "\n",
    "    lines = []\n",
    "    seqs = []\n",
    "\n",
    "    for line, ecfp_line, logkm in zip(temp_seq, temp_ectp, temp_logkm):\n",
    "        line = line.split(\" \")[0].strip()\n",
    "        if ~any(ext in line for ext in NON_STANDARD_AMINO_ACIDS):\n",
    "            if tokenize:\n",
    "                line = tokenize_string(line)\n",
    "            else:\n",
    "                line = tuple(line)\n",
    "\n",
    "            if len(line) > max_length:\n",
    "                line = line[:max_length]\n",
    "            \n",
    "            lines.append([line + ( (\"0\",)*(max_length-len(line)) ), ecfp_line, logkm] )\n",
    "            seqs.append(line + ( (\"0\",)*(max_length-len(line)) ))\n",
    "\n",
    "    charmap = AMINO_ACID_TO_ID\n",
    "    inv_charmap = ['0','A','C','D','E','F','G','H','I','K','L','M','N','P','Q','R','S','T','V','W','Y']\n",
    "\n",
    "    filtered_lines = []\n",
    "    logkm_lists = []\n",
    "    substrate_ecfp_lists = []\n",
    "    for line, ecfp_line, logkm in lines:\n",
    "        filtered_line = []\n",
    "        for char in line:\n",
    "            if char in charmap:\n",
    "                filtered_line.append(char)\n",
    "            else:\n",
    "                # convert all characters to '0' if not exist in inv_charmap\n",
    "                filtered_line.append('0')\n",
    "        filtered_lines.append(tuple(filtered_line))\n",
    "        substrate_ecfp_lists.append(ecfp_line)\n",
    "        logkm_lists.append(logkm)\n",
    "\n",
    "    print(\"loaded {} lines in dataset\".format(len(lines)))\n",
    "    # print(charmap, inv_charmap) # {'P': 0, 'A': 1, 'T': 2, 'G': 3, 'C': 4} ['P', 'A', 'T', 'G', 'C']\n",
    "    return filtered_lines, charmap, inv_charmap, substrate_ecfp_lists, logkm_lists\n",
    "\n",
    "max_examples = 1e6\n",
    "data, charmap, inv_charmap, substate_ecfp, logkm_list = load_dataset_ecfp(\n",
    "    max_length=seq_len,\n",
    "    max_n_examples=max_examples,\n",
    "    data_dir=data_dir\n",
    ")"
   ]
  },
  {
   "cell_type": "code",
   "execution_count": 87,
   "metadata": {},
   "outputs": [],
   "source": [
    "model.eval()\n",
    "seqs = []\n",
    "substrates = []\n",
    "logkm_bases = []\n",
    "logkm_preds = []\n",
    "\n",
    "for idx in range(n_train_batches):\n",
    "    _data = np.array(\n",
    "        [[charmap[c] for c in l] for l in data[idx*batch_size:(idx+1)*batch_size]],\n",
    "        dtype='int32'\n",
    "    )\n",
    "    data_one_hot = one_hot.transform(_data.reshape(-1, 1)).toarray().reshape(batch_size, -1, len(charmap))\n",
    "    real_data = torch.Tensor(data_one_hot)\n",
    "    real_data = to_var(real_data)\n",
    "\n",
    "    logkm_data = torch.Tensor(np.array(logkm_list[idx*batch_size:(idx+1)*batch_size]))\n",
    "    logkm_data = to_var(logkm_data)\n",
    "\n",
    "    substrate_data = torch.Tensor(np.array(\n",
    "        [[c for c in l] for l in substate_ecfp[idx*batch_size:(idx+1)*batch_size]],\n",
    "        dtype=\"int32\"\n",
    "    ))\n",
    "    substrate_data = to_var(substrate_data)\n",
    "\n",
    "    logkm_pred = model(real_data, substrate_data)\n",
    "\n",
    "    #output_data.append([list(map(\"\".join, data[idx*batch_size:(idx+1)*batch_size])), substate_ecfp[idx*batch_size:(idx+1)*batch_size], logkm_data.detach().cpu().numpy(), logkm_pred.detach().cpu().numpy()])\n",
    "\n",
    "    seqs.append(list(map(\"\".join, data[idx*batch_size:(idx+1)*batch_size])))\n",
    "    substrates.append(substate_ecfp[idx*batch_size:(idx+1)*batch_size])\n",
    "    logkm_bases.append(logkm_data.detach().cpu().numpy())\n",
    "    logkm_preds.append(logkm_pred.detach().cpu().numpy())"
   ]
  },
  {
   "cell_type": "code",
   "execution_count": 66,
   "metadata": {},
   "outputs": [],
   "source": [
    "#output_data[:5]"
   ]
  },
  {
   "cell_type": "code",
   "execution_count": 71,
   "metadata": {},
   "outputs": [],
   "source": [
    "#len(output_data[2])"
   ]
  },
  {
   "cell_type": "code",
   "execution_count": 88,
   "metadata": {},
   "outputs": [],
   "source": [
    "import numpy as np\n",
    "\n",
    "seqs = np.concatenate(seqs, axis=0)\n",
    "substrates = np.concatenate(substrates, axis=0)\n",
    "logkm_bases = np.concatenate(logkm_bases, axis=0)\n",
    "logkm_preds = np.concatenate(logkm_preds, axis=0)"
   ]
  },
  {
   "cell_type": "code",
   "execution_count": 97,
   "metadata": {},
   "outputs": [],
   "source": [
    "df = pd.DataFrame(columns=[\"Sequence\", \"Substrate_ECFP\", \"log10_KM\", \"log10_KM_Pred\"])"
   ]
  },
  {
   "cell_type": "code",
   "execution_count": 100,
   "metadata": {},
   "outputs": [],
   "source": [
    "df[\"Sequence\"] = seqs\n",
    "df[\"Substrate_ECFP\"] = substrates\n",
    "df[\"log10_KM\"] = logkm_bases\n",
    "df[\"log10_KM_Pred\"] = logkm_preds"
   ]
  },
  {
   "cell_type": "code",
   "execution_count": 103,
   "metadata": {},
   "outputs": [],
   "source": [
    "df.to_csv(\"pred_km_output.csv\")"
   ]
  },
  {
   "cell_type": "code",
   "execution_count": null,
   "metadata": {},
   "outputs": [],
   "source": []
  }
 ],
 "metadata": {
  "interpreter": {
   "hash": "a0e8cd18173f442396450e7fcd4ac8771ac784f0fd0273fa253fa66de9e09424"
  },
  "kernelspec": {
   "display_name": "Python 3.6.7 ('python36')",
   "language": "python",
   "name": "python3"
  },
  "language_info": {
   "codemirror_mode": {
    "name": "ipython",
    "version": 3
   },
   "file_extension": ".py",
   "mimetype": "text/x-python",
   "name": "python",
   "nbconvert_exporter": "python",
   "pygments_lexer": "ipython3",
   "version": "3.6.7"
  },
  "orig_nbformat": 4
 },
 "nbformat": 4,
 "nbformat_minor": 2
}
